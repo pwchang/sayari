{
 "cells": [
  {
   "cell_type": "code",
   "execution_count": 7,
   "metadata": {
    "collapsed": true
   },
   "outputs": [],
   "source": [
    "import numpy as np\n",
    "import scrapy\n",
    "import pandas as pd"
   ]
  },
  {
   "cell_type": "code",
   "execution_count": 4,
   "metadata": {},
   "outputs": [],
   "source": [
    "class BusinessSpider(scrapy.Spider):\n",
    "    name = \"business\"\n",
    "\n",
    "    def start_requests(self):\n",
    "        urls = [\n",
    "            'https://firststop.sos.nd.gov/api/Records/businesssearch'\n",
    "        ]\n",
    "        for url in urls:\n",
    "            yield scrapy.Request(url=url, callback=self.parse)\n",
    "\n",
    "    def parse(self, response):\n",
    "        # Parse the title boxes for those starting with X\n",
    "        businesses = response.css('title-box').re(r'X.*')\n",
    "        \n",
    "        # Create arrays which remain empty if parse returns nothing for \n",
    "        # owners, registered agents, or commercial registered agents\n",
    "        commercial_reg_agents = np.empty(len(businesses))\n",
    "        reg_agents = np.empty(len(businesses))\n",
    "        owners = np.empty(len(businesses))\n",
    "        \n",
    "        # Presumably there is some logic to look only within the div object\n",
    "        # \"details-list container-fluid\" whose title box has an X\n",
    "        i = 0\n",
    "        for business in businesses:\n",
    "            commercial_reg_agents[i] = response.css('details-list.container fluid.detail.value where detail.label=\"Commercial Registered Agent\"')\n",
    "            reg_agents[i] = response.css('details-list.container fluid.detail.value where detail.label=\"Registered Agent\"')\n",
    "            owners[i] = response.css('details-list.container fluid.detail.value where detail.label=\"Owner\"')\n",
    "            i += 1\n",
    "        \n",
    "        table = pd.Dataframe(np.array(businesses, commercial_reg_agents, reg_agents, owners), \\\n",
    "                            columns=['Business', 'Commercial Registered Agent', 'Registered Agent', 'Owners'])\n",
    "        filename = 'businesses.csv'\n",
    "        with open(filename, 'wb') as f:\n",
    "            f.write(table)\n",
    "        self.log('Saved file %s' % filename)"
   ]
  },
  {
   "cell_type": "code",
   "execution_count": 8,
   "metadata": {
    "collapsed": true
   },
   "outputs": [],
   "source": [
    "# Can't really plot the network without the data\n",
    "# I would plot each company as a node. If two companies shared the same owner\n",
    "# or registered agent they would be connected via an edge. Edges in different\n",
    "# colors would be ideal."
   ]
  },
  {
   "cell_type": "code",
   "execution_count": null,
   "metadata": {
    "collapsed": true
   },
   "outputs": [],
   "source": []
  }
 ],
 "metadata": {
  "kernelspec": {
   "display_name": "Python 3",
   "language": "python",
   "name": "python3"
  },
  "language_info": {
   "codemirror_mode": {
    "name": "ipython",
    "version": 3
   },
   "file_extension": ".py",
   "mimetype": "text/x-python",
   "name": "python",
   "nbconvert_exporter": "python",
   "pygments_lexer": "ipython3",
   "version": "3.6.3"
  }
 },
 "nbformat": 4,
 "nbformat_minor": 2
}
